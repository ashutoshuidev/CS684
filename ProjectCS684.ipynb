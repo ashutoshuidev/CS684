{
 "cells": [
  {
   "cell_type": "markdown",
   "metadata": {},
   "source": [
    "             Bansal, Ashutosh                              Project                              CS 684 Spring 2021"
   ]
  },
  {
   "cell_type": "code",
   "execution_count": null,
   "metadata": {},
   "outputs": [],
   "source": [
    "# Import packages\n",
    "import numpy as np\n",
    "from scipy.spatial import distance_matrix\n",
    "import time"
   ]
  },
  {
   "cell_type": "code",
   "execution_count": 53,
   "metadata": {},
   "outputs": [],
   "source": [
    "# Binary Search \n",
    "def BST(current, right, left, cost, tot):\n",
    "    while right-left > 1:\n",
    "        mid = (right+left)//2\n",
    "        currentSum = (mid+1)*current[mid]- current[0:mid+1].sum() \n",
    "        if abs(currentSum - cost) <= tot:\n",
    "            return mid\n",
    "        elif currentSum < cost:\n",
    "            left = mid\n",
    "        else:\n",
    "            right = mid\n",
    "\n",
    "    rightSum = (right+1)*current[right]- current[0:right+1].sum() \n",
    "        \n",
    "    if rightSum > cost:\n",
    "        return left\n",
    "    else:\n",
    "        return right\n"
   ]
  },
  {
   "cell_type": "code",
   "execution_count": 54,
   "metadata": {},
   "outputs": [],
   "source": [
    "# calculate radius between each pair of points\n",
    "def computeRadius(current, index, cost):\n",
    "    currentSum = (index+1)*current[index]-current[0:index+1].sum() \n",
    "    costDiff = cost-currentSum\n",
    "    radius = current[index] + costDiff/(index+1)\n",
    "    return radius"
   ]
  },
  {
   "cell_type": "code",
   "execution_count": 55,
   "metadata": {},
   "outputs": [],
   "source": [
    "# # Implement facility location problem\n",
    "def facilityLocation(sortedDist, dmatrx, dataset, minCost):\n",
    "    # extract number of points\n",
    "    noOfPoints = dataset.shape[0]  \n",
    "     # Take an epmty array to store radius\n",
    "    radius = [] \n",
    "    # Take an epmty array to store centers\n",
    "    center = []           \n",
    "    \n",
    "    # iterate over no. of points\n",
    "    for i in range(noOfPoints):     \n",
    "         # take ith row and all columns in current\n",
    "        current = sortedDist[i,:] \n",
    "        \n",
    "        # Get the index with min distance\n",
    "        index = BST(current, noOfPoints, 0, minCost, 1e-10) \n",
    "        # Calculate radius for chosen index\n",
    "        currentRadius = computeRadius(current, index, minCost)\n",
    "        # Add radius \n",
    "        radius.append((i, currentRadius))\n",
    "\n",
    "    # sort radius\n",
    "    radius = sorted(radius, key = lambda x: x[1])  \n",
    "    \n",
    "    # Choose centers\n",
    "    for item in radius:   \n",
    "        index = item[0]\n",
    "        currentRadius = item[1]\n",
    "        currentPoint = dataset[index]\n",
    "        if len(center) == 0:\n",
    "            center.append(index)\n",
    "        else:\n",
    "            # select centers by minimum cost\n",
    "            cost = dmatrx[index, center].min()\n",
    "            if cost > 2*currentRadius:\n",
    "                center.append(index)\n",
    "                \n",
    "    total_cost =  dmatrx[:, center].min(axis=1).sum() + len(center)*minCost\n",
    "    \n",
    "    return (center, total_cost)\n",
    "\n"
   ]
  },
  {
   "cell_type": "code",
   "execution_count": 56,
   "metadata": {},
   "outputs": [],
   "source": [
    "# define no. of points\n",
    "noOfPoints = 1000 \n",
    "# define no. of dimensions\n",
    "noOfDimensions = 5  \n",
    "# generate dataset (points)\n",
    "dataset = np.random.random((noOfPoints, noOfDimensions)) \n",
    "# dataset"
   ]
  },
  {
   "cell_type": "code",
   "execution_count": 57,
   "metadata": {},
   "outputs": [],
   "source": [
    "#Get distance of each point from each point\n",
    "dmatrx = distance_matrix(dataset, dataset)\n",
    "\n",
    "# Sort the matrix\n",
    "sortedDist = dmatrx\n",
    "# type(sortedDist)\n",
    "sortedDist.sort(axis=1)\n",
    "# sortedDist.shape"
   ]
  },
  {
   "cell_type": "code",
   "execution_count": 58,
   "metadata": {},
   "outputs": [
    {
     "name": "stdout",
     "output_type": "stream",
     "text": [
      "Selected Centers  [216, 647, 600, 587, 960, 107, 105, 788, 505, 522, 630, 114, 398, 340, 762, 183, 985, 619, 196, 806, 138, 726, 351, 357, 167, 683, 73, 80, 852, 497, 69, 2]\n",
      "Total cost  249.27651443278063\n",
      "total time taken to run the algorithm  0.046895503997802734\n"
     ]
    }
   ],
   "source": [
    "# Minimum cost to explore a facility\n",
    "minCost = 1 \n",
    "\n",
    "#start time of algorithm\n",
    "start = time.time()\n",
    "\n",
    "# Run the algorithm \n",
    "centers, totalCost = facilityLocation(sortedDist, dmatrx, dataset, minCost)\n",
    "print(\"Selected Centers \", centers)\n",
    "print(\"Total cost \", totalCost)\n",
    "\n",
    "# Subtract current time with start time to get total time taken to run the algorithm \n",
    "print(\"total time taken to run the algorithm \", time.time()-start)"
   ]
  },
  {
   "cell_type": "code",
   "execution_count": null,
   "metadata": {},
   "outputs": [],
   "source": []
  },
  {
   "cell_type": "code",
   "execution_count": null,
   "metadata": {},
   "outputs": [],
   "source": []
  }
 ],
 "metadata": {
  "kernelspec": {
   "display_name": "Python 3",
   "language": "python",
   "name": "python3"
  },
  "language_info": {
   "codemirror_mode": {
    "name": "ipython",
    "version": 3
   },
   "file_extension": ".py",
   "mimetype": "text/x-python",
   "name": "python",
   "nbconvert_exporter": "python",
   "pygments_lexer": "ipython3",
   "version": "3.7.3"
  }
 },
 "nbformat": 4,
 "nbformat_minor": 2
}
